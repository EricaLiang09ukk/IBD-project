{
 "cells": [
  {
   "cell_type": "code",
   "id": "initial_id",
   "metadata": {
    "collapsed": true,
    "ExecuteTime": {
     "end_time": "2024-11-18T21:12:45.244776Z",
     "start_time": "2024-11-18T21:12:37.324689Z"
    }
   },
   "source": [
    "from PIL import Image\n",
    "Image.MAX_IMAGE_PIXELS = None\n",
    "import numpy as np\n",
    "import matplotlib.pyplot as plt\n",
    "from skimage.color import rgb2hed\n",
    "from skimage import exposure\n",
    "from skimage import transform\n",
    "from skimage import io\n",
    "import tifffile as tiff\n",
    "import matplotlib.image as mpimg\n",
    "import os\n",
    "os.add_dll_directory(r'C:\\Users\\77178\\Documents\\IBD-Biopsy-Slide-Imaging-Project\\openslide-bin-4.0.0.5-windows-x64\\bin')\n",
    "import openslide as slide\n",
    "import cv2\n",
    "from skimage.util import img_as_ubyte\n",
    "from tifffile import imwrite"
   ],
   "outputs": [],
   "execution_count": 1
  },
  {
   "metadata": {
    "ExecuteTime": {
     "end_time": "2024-11-18T21:15:13.834193Z",
     "start_time": "2024-11-18T21:15:13.813731Z"
    }
   },
   "cell_type": "code",
   "source": [
    "def resize_image_to_target_size(input_path, output_path, target_size_kb):\n",
    "    '''\n",
    "    reszie the image to target_size_kb\n",
    "    :param input_path: file path of input image\n",
    "    :param output_path: where to save the resized image\n",
    "    :param target_size_kb: to load in cellprofiler\n",
    "    :return: image with target size\n",
    "    '''\n",
    "    # load image\n",
    "    image = cv2.imread(input_path)\n",
    "    \n",
    "    # check if the image was loaded successfully\n",
    "    if image is None:\n",
    "        raise ValueError(f\"Failed to load image from {input_path}. Please check the file path or format.\")\n",
    "    \n",
    "    file_size_kb = os.path.getsize(input_path) / 1024  # initial file size in KB\n",
    "\n",
    "    # if already under the target size, save it directly\n",
    "    if file_size_kb <= target_size_kb:\n",
    "        print(f\"No resizing needed for {input_path}, file size is already under {target_size_kb} KB.\")\n",
    "        imwrite(output_path, image)\n",
    "        return image\n",
    "\n",
    "    # scale factor\n",
    "    scale_factor = 0.95\n",
    "\n",
    "    # iterate to resize until file size is under the target size\n",
    "    while file_size_kb > target_size_kb:\n",
    "        # calculate new dimensions\n",
    "        new_width = int(image.shape[1] * scale_factor)\n",
    "        new_height = int(image.shape[0] * scale_factor)\n",
    "        # resize the image\n",
    "        resized_image = cv2.resize(image, (new_width, new_height), interpolation=cv2.INTER_AREA)\n",
    "        # save temporarily to check file size\n",
    "        temp_output_path = \"temp_resized_image.png\"\n",
    "        cv2.imwrite(temp_output_path, resized_image)\n",
    "        file_size_kb = os.path.getsize(temp_output_path) / 1024\n",
    "        # reduce scale factor if still above limit\n",
    "        scale_factor *= 0.95\n",
    "\n",
    "    # load resized image back and save\n",
    "    resized_image = cv2.imread(temp_output_path)\n",
    "    os.remove(temp_output_path)  # clean up temporary file\n",
    "    imwrite(output_path, resized_image)  # save\n",
    "    print(f\"Resized image saved as {output_path}\")\n",
    "    return resized_image"
   ],
   "id": "2c905728b9ac6c61",
   "outputs": [],
   "execution_count": 3
  },
  {
   "metadata": {
    "ExecuteTime": {
     "end_time": "2024-11-18T21:15:18.368521Z",
     "start_time": "2024-11-18T21:15:18.349121Z"
    }
   },
   "cell_type": "code",
   "source": [
    "def convert_to_multichannel(input_path, output_path):\n",
    "    '''\n",
    "    extract the hematoxylin and eosin stain form images to create a multichannel image\n",
    "    :param input_path: path of input image\n",
    "    :param output_path: path of output image\n",
    "    :return: multichannel image with h&e channel\n",
    "    '''\n",
    "    # load images\n",
    "    resized_image = cv2.imread(input_path)\n",
    "    \n",
    "    # convert to HED and separate channels\n",
    "    image_rgb = cv2.cvtColor(resized_image, cv2.COLOR_BGR2RGB)  # convert to RGB\n",
    "    image_hed = rgb2hed(image_rgb)  # Convert RGB to HED\n",
    "\n",
    "    # normalize H&E channels to [0, 1] range\n",
    "    hematoxylin = (image_hed[:, :, 0] - image_hed[:, :, 0].min()) / (image_hed[:, :, 0].max() - image_hed[:, :, 0].min())\n",
    "    eosin = (image_hed[:, :, 1] - image_hed[:, :, 1].min()) / (image_hed[:, :, 1].max() - image_hed[:, :, 1].min())\n",
    "\n",
    "    # create an empty channel\n",
    "    empty_channel = np.zeros_like(hematoxylin)\n",
    "    # combine channels\n",
    "    multichannel_image = np.stack((hematoxylin, eosin, empty_channel), axis=-1)\n",
    "\n",
    "    # save the final multichannel image\n",
    "    imwrite(output_path, multichannel_image)\n",
    "    print(f\"Multichannel image saved as {output_path}\")"
   ],
   "id": "5ed4fbba329b88eb",
   "outputs": [],
   "execution_count": 4
  },
  {
   "metadata": {
    "ExecuteTime": {
     "end_time": "2024-11-18T21:15:27.897514Z",
     "start_time": "2024-11-18T21:15:27.884794Z"
    }
   },
   "cell_type": "code",
   "source": [
    "# paths\n",
    "input_dir = r\"C:/Users/77178/Documents/IBD-Biopsy-Slide-Imaging-Project-data/combined_data/\"\n",
    "resized_output_dir = r\"C:/Users/77178/Documents/IBD-Biopsy-Slide-Imaging-Project-data/temp_resize/resize/\"\n",
    "multichannel_output_dir = r\"C:/Users/77178/Documents/IBD-Biopsy-Slide-Imaging-Project-data/multichannel_resized/\"\n"
   ],
   "id": "81d7b82d855169a0",
   "outputs": [],
   "execution_count": 5
  },
  {
   "metadata": {
    "ExecuteTime": {
     "end_time": "2024-11-18T21:15:29.444632Z",
     "start_time": "2024-11-18T21:15:29.419545Z"
    }
   },
   "cell_type": "code",
   "source": [
    "# target size in kb\n",
    "target_size_kb = 34000"
   ],
   "id": "4ee13c473022fd3c",
   "outputs": [],
   "execution_count": 6
  },
  {
   "metadata": {
    "ExecuteTime": {
     "end_time": "2024-11-18T21:16:25.929889Z",
     "start_time": "2024-11-18T21:15:31.544683Z"
    }
   },
   "cell_type": "code",
   "source": [
    "# process all images in the input directory\n",
    "for filename in os.listdir(input_dir):\n",
    "    # ignore hidden macOS files that start with '._'\n",
    "    if filename.startswith(\"._\"):\n",
    "        continue\n",
    "\n",
    "    # proceed only if it ends with .tif or .tiff\n",
    "    if filename.endswith(\".tif\") or filename.endswith(\".tiff\"):\n",
    "        input_path = os.path.join(input_dir, filename)\n",
    "        resized_output_path = os.path.join(resized_output_dir, f\"{os.path.splitext(filename)[0]}_resized.tif\")\n",
    "        print(f\"Processing file: {filename}\")\n",
    "        resize_image_to_target_size(input_path, resized_output_path, target_size_kb)\n"
   ],
   "id": "d8fd4cabcfdf9673",
   "outputs": [
    {
     "name": "stdout",
     "output_type": "stream",
     "text": [
      "Processing file: S24-888 D.ome.tif\n",
      "Resized image saved as C:/Users/77178/Documents/IBD-Biopsy-Slide-Imaging-Project-data/temp_resize/resize/S24-888 D.ome_resized.tif\n"
     ]
    }
   ],
   "execution_count": 7
  },
  {
   "metadata": {
    "ExecuteTime": {
     "end_time": "2024-11-18T21:19:19.333774Z",
     "start_time": "2024-11-18T21:19:10.569003Z"
    }
   },
   "cell_type": "code",
   "source": [
    "# convert resized images to multichannel and save\n",
    "for filename in os.listdir(resized_output_dir):\n",
    "    if filename.endswith(\"_resized.tif\"):\n",
    "        resized_input_path = os.path.join(resized_output_dir, filename)\n",
    "        multichannel_output_path = os.path.join(multichannel_output_dir, f\"{os.path.splitext(filename)[0]}_multichannel.tif\")\n",
    "        print(f\"Converting to multichannel: {filename}\")\n",
    "        convert_to_multichannel(resized_input_path, multichannel_output_path)\n",
    "\n",
    "print(\"Processing complete for all files.\")"
   ],
   "id": "edb0db87b366f90b",
   "outputs": [
    {
     "name": "stdout",
     "output_type": "stream",
     "text": [
      "Converting to multichannel: S24-888 D.ome_resized.tif\n",
      "Multichannel image saved as C:/Users/77178/Documents/IBD-Biopsy-Slide-Imaging-Project-data/temp_resize/multi/S24-888 D.ome_resized_multichannel.tif\n",
      "Processing complete for all files.\n"
     ]
    }
   ],
   "execution_count": 8
  },
  {
   "metadata": {},
   "cell_type": "code",
   "outputs": [],
   "execution_count": null,
   "source": "",
   "id": "ddc7b91dde95d311"
  }
 ],
 "metadata": {
  "kernelspec": {
   "display_name": "Python 3",
   "language": "python",
   "name": "python3"
  },
  "language_info": {
   "codemirror_mode": {
    "name": "ipython",
    "version": 2
   },
   "file_extension": ".py",
   "mimetype": "text/x-python",
   "name": "python",
   "nbconvert_exporter": "python",
   "pygments_lexer": "ipython2",
   "version": "2.7.6"
  }
 },
 "nbformat": 4,
 "nbformat_minor": 5
}
